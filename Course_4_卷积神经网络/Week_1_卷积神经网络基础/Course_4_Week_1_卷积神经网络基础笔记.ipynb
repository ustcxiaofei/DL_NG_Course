{
 "cells": [
  {
   "cell_type": "markdown",
   "metadata": {},
   "source": [
    "**主要内容**\n",
    "- 计算机视觉\n",
    "- 边缘检测\n",
    "- 卷积神经网络\n",
    "- padding、conv、pooling"
   ]
  },
  {
   "cell_type": "markdown",
   "metadata": {},
   "source": [
    "# 卷积\n",
    "对于复杂的卷积核，我们直接将其看做需要学习的参数，通过卷积神经网络中的BP算法来进行学习。而不是与传统图像处理一样进行手工滤波核设计\n",
    "\n",
    "**卷积与互相关**\n",
    "在深度学习中，我们实际上并没有讲卷积核在水平和垂直方向上进行翻转，也没有必要，因为具体的值是通过学习获得的。因此在深度学习上准确的来讲进行的是互相关（cross-correlation)"
   ]
  },
  {
   "cell_type": "markdown",
   "metadata": {},
   "source": [
    "# padding\n",
    "**无padding的缺点**\n",
    "- 图像经过卷积后尺寸会缩小\n",
    "- 角落和边缘的像素进行卷积的次数少，可能丢失有用信息\n",
    "\n",
    "一般 n表示图片的长或宽，f用来表示卷积filter的大小，以p表示padding的值\n",
    "\n",
    "**加padding**\n",
    "- 加入padding后的图像卷积大小为 （n+2p-f+1)$*$(n+2p-f+1)\n",
    "\n",
    "**valid/same卷积**\n",
    "- valid:no padding; $(n-f+1)\\times (n-f+1)$\n",
    "- same:padding，输出与输入大小相同 p = (f-1)/2"
   ]
  },
  {
   "cell_type": "markdown",
   "metadata": {},
   "source": [
    "# 卷积补偿 stride\n",
    "以s表示stride的大小，那么在进行卷积运算后，图片的变化为：$n\\times n$->\n",
    "$$\\left\\lfloor \\dfrac{n+2p-f}{s}+1 \\right\\rfloor\\times \\left\\lfloor \\dfrac{n+2p-f}{s}+1 \\right\\rfloor$$\n",
    "\n",
    "当$padding\\ne 1$时候，若移动的窗口落在图片外面时，则不要再进行相乘的操作，丢弃边缘的数值信息，所以输出图片的最终维度为**向下取整**"
   ]
  },
  {
   "cell_type": "markdown",
   "metadata": {},
   "source": [
    "# 立体卷积\n",
    "![conv](./Image/conv.png)\n",
    "$n\\times n\\times n_{c}$ --> $n-f+1\\times n-f+1\\times n'_{c}$\n",
    "\n",
    "\n",
    "其中，$n_c$表示通道的数量，$n^c$表示下一层的通道数，同时也等于本层卷积核的个数。\n",
    "\n",
    "立体卷积中仍然可以键入padding以及stride"
   ]
  },
  {
   "cell_type": "markdown",
   "metadata": {},
   "source": [
    "# 池化层\n",
    "最大池化和平均池化\n",
    "**池化Summary**\n",
    "超参数：\n",
    "- f：filter的大小\n",
    "- s: stride大小\n",
    "- 池化类型\n",
    "- p:padding，一般在池化中很少用\n",
    "\n",
    "**注意，池化层没有需要学习的参数**\n"
   ]
  },
  {
   "cell_type": "markdown",
   "metadata": {},
   "source": [
    "# 标记总结\n",
    "![repe](./Image/repe.png)"
   ]
  },
  {
   "cell_type": "markdown",
   "metadata": {},
   "source": [
    "# 卷积网络的优势\n",
    "- 参数少\n",
    "- 参数共享：一个filter对图片的一部分有用，则有可能对图片的另一部分仍然有用\n",
    "- 连接的稀疏性：在没一层中，每个输出值只取决于少量的输入"
   ]
  },
  {
   "cell_type": "code",
   "execution_count": null,
   "metadata": {},
   "outputs": [],
   "source": []
  }
 ],
 "metadata": {
  "kernelspec": {
   "display_name": "Python 3",
   "language": "python",
   "name": "python3"
  },
  "language_info": {
   "codemirror_mode": {
    "name": "ipython",
    "version": 3
   },
   "file_extension": ".py",
   "mimetype": "text/x-python",
   "name": "python",
   "nbconvert_exporter": "python",
   "pygments_lexer": "ipython3",
   "version": "3.6.5"
  },
  "toc": {
   "base_numbering": 1,
   "nav_menu": {},
   "number_sections": true,
   "sideBar": true,
   "skip_h1_title": false,
   "title_cell": "Table of Contents",
   "title_sidebar": "Contents",
   "toc_cell": false,
   "toc_position": {},
   "toc_section_display": true,
   "toc_window_display": false
  }
 },
 "nbformat": 4,
 "nbformat_minor": 2
}
