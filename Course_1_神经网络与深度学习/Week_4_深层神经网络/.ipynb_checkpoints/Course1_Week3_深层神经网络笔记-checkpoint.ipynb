{
 "cells": [
  {
   "cell_type": "markdown",
   "metadata": {},
   "source": [
    "**主要内容包括：**\n",
    "- 深度神经网络\n",
    "- DNN的前向和反向传播\n",
    "- 参数和超参数"
   ]
  },
  {
   "cell_type": "markdown",
   "metadata": {},
   "source": [
    "# 矩阵的维度\n",
    "对于第l层神经网络，单个样本其各个参数的矩阵维度为：\n",
    "* $W^{[l]}：(n^{[l]},n^{[l−1]}$)\n",
    "* $b^{[l]}：(n^{[l]},1$)\n",
    "* $dW^{[l]}：(n^{[l]},n^{[l−1]}$)\n",
    "* $d^{b[l]}：(n^{[l]},1$)\n",
    "* $Z^{[l]}：(n^{[l]},1$)\n",
    "* $A^{[l]}=Z^{[l]}：(n^{[l]},1$)\n"
   ]
  },
  {
   "cell_type": "markdown",
   "metadata": {},
   "source": [
    "# 使用深层网络的原因\n",
    "![dnn](./Image/dnn.png)\n",
    "对于人脸识别，神经网络的第一层从原始图片中提取人脸的轮廓和边缘，每个神经元学习到不同边缘的信息；网络的第二层将第一层学得的边缘信息组合起来，形成人脸的一些局部的特征，例如眼睛、嘴巴等；后面的几层逐步将上一层的特征组合起来，形成人脸的模样。随着神经网络层数的增加，特征也从原来的边缘逐步扩展为人脸的整体，由整体到局部，由简单到复杂。层数越多，那么模型学习的效果也就越精确。"
   ]
  },
  {
   "cell_type": "markdown",
   "metadata": {},
   "source": [
    "# 前向和反向传播\n",
    "* 前向传播\n",
    "\n",
    "   - Input：$a^{[l−1]}$ \n",
    "\n",
    "   - Output：$a^{[l]}，cache(z^{[l]}$)\n",
    "\n",
    "   - 向量化表示：$$Z^{[l]}=W^{[l]}\\cdot A^{[l-1]}+b^{[l]}\\\\A^{[l]}=g^{[l]}(Z^{[l]})$$\n",
    "   \n",
    "* 反向传播\n",
    "\n",
    "   -Input：$da^{[l]}$ \n",
    "   \n",
    "   -Output：$da^{[l−1]}，d^{W[l]}，d^{b[l]}$\n",
    "   \n",
    "   -向量化表示：$$dZ^{[l]}=dA^{[l]} * g^{[l]}{'}(Z^{[l]})\\\\dW^{[l]}=\\dfrac{1}{m}dZ^{[l]}\\cdot A^{[l-1]}\\\\db^{[l]}=\\dfrac{1}{m}np.sum(dZ^{[l]},axis=1,keepdims = True)\\\\dA^{[l-1]}=W^{[l]}{^T}\\cdot dZ^{[l]}$$"
   ]
  },
  {
   "cell_type": "markdown",
   "metadata": {},
   "source": [
    "# 参数与超参数\n",
    "\n",
    "* 参数：在学习过程中想要模型学习到的信息，比如：$W^{[l]},b^{[l]}$\n",
    "* 超参数：控制模型特性的一些参数：\n",
    "   - 学习率\n",
    "   - 迭代次数\n",
    "   - 规整系数\n",
    "   - 激活函数的选择\n",
    "   - 网络深度\n",
    "   - 网络各层宽度等"
   ]
  },
  {
   "cell_type": "code",
   "execution_count": null,
   "metadata": {},
   "outputs": [],
   "source": []
  }
 ],
 "metadata": {
  "kernelspec": {
   "display_name": "Python 3",
   "language": "python",
   "name": "python3"
  },
  "language_info": {
   "codemirror_mode": {
    "name": "ipython",
    "version": 3
   },
   "file_extension": ".py",
   "mimetype": "text/x-python",
   "name": "python",
   "nbconvert_exporter": "python",
   "pygments_lexer": "ipython3",
   "version": "3.6.5"
  },
  "toc": {
   "base_numbering": 1,
   "nav_menu": {},
   "number_sections": true,
   "sideBar": true,
   "skip_h1_title": false,
   "title_cell": "Table of Contents",
   "title_sidebar": "Contents",
   "toc_cell": false,
   "toc_position": {},
   "toc_section_display": true,
   "toc_window_display": false
  }
 },
 "nbformat": 4,
 "nbformat_minor": 2
}
