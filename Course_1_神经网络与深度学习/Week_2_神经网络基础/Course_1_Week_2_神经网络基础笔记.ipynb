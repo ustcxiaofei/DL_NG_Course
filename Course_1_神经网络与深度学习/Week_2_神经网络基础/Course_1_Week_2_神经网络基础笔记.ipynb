{
 "cells": [
  {
   "cell_type": "markdown",
   "metadata": {},
   "source": [
    "# 主要内容\n",
    "\n",
    "* logistic regression \n",
    "\n",
    "* loss function\n",
    "\n",
    "* gradient descent\n",
    "\n",
    "* vectorliztion \n",
    "\n",
    "* cost funtion\n",
    "\n",
    "* ..."
   ]
  },
  {
   "cell_type": "markdown",
   "metadata": {},
   "source": [
    "# 神经网络中的符号约定\n",
    "\n",
    "* 样本：(x,y),训练样本个数m\n",
    "* 每个样本的特征维度为nx\n",
    "* 分类问题中标签y可取值为0或1\n",
    "* 整个训练数据集由m个训练样本构成\n",
    "\n",
    "**与机器学习中的约定不一致的是，在神经网络中一般一列表示一个样本，训练数据以矩阵的形式表示如下：**\n",
    "![train_data](./Image/train_data.png)"
   ]
  },
  {
   "cell_type": "markdown",
   "metadata": {},
   "source": [
    "# 逻辑回归函数"
   ]
  },
  {
   "cell_type": "markdown",
   "metadata": {},
   "source": [
    "预测值：$$ \\hat h = P(y=1|x)$$\n",
    "$$\\hat y = Sigmoid(w^{T}x+b)=\\sigma(w^{T}x+b)$$\n",
    "S函数：$$ Sigmoid(z)=\\dfrac{1}{1+e^{-z}}$$\n",
    "S函数的倒数：$$\\sigma'(z)=\\sigma(z)(1-\\sigma(z))$$\n",
    "损失函数：$$L(\\hat y, y)=-(y\\log\\hat y+(1-y)\\log(1-\\hat y))$$\n",
    "代价函数：$$J(w,b)=\\dfrac{1}{m}\\sum_{i=1}^{m}L(\\hat y^{(i)}, y^{(i)})=-\\dfrac{1}{m}\\sum_{i=1}^{m}\\left[y^{(i)}\\log\\hat y^{(i)}+(1-y^{(i)})\\log(1-\\hat y^{(i)})\\right]$$"
   ]
  },
  {
   "cell_type": "markdown",
   "metadata": {},
   "source": [
    "# 逻辑回归的向量化表示\n",
    "\n",
    "**各个变量的维度**\n",
    "* 输入训练数据矩阵X:(nx,m)\n",
    "* 权重矩阵W：（nx,1)\n",
    "* 偏置系数b: scaler 常数\n",
    "* 输出预测矩阵Y：（1，m)\n",
    "\n",
    "**m个样本的线性输出Z可以用矩阵表示为：**\n",
    "$$Z = w^{T}X+b$$"
   ]
  },
  {
   "cell_type": "markdown",
   "metadata": {},
   "source": [
    "**梯度的向量化表示**\n",
    "**技巧在于直接根据矩阵公式进行推导，保证维度正确，变量与变量的梯度具有相同的维度**\n",
    "$$dZ = A - Y$$\n",
    "$$db = \\dfrac{1}{m}\\sum_{i=1}^{m}dz^{(i)}$$\n",
    "$$dw = \\dfrac{1}{m}X\\cdot dZ^{T}$$"
   ]
  },
  {
   "cell_type": "markdown",
   "metadata": {},
   "source": [
    "**单次梯度下降的算法流程如下：**\n",
    "\n",
    "```\n",
    "Z = np.dot(w.T,X) + b\n",
    "A = sigmoid(Z)\n",
    "dZ = A-Y\n",
    "dw = 1/m*np.dot(X,dZ.T)\n",
    "db = 1/m*np.sum(dZ)\n",
    "\n",
    "w = w - alpha*dw\n",
    "b = b - alpha*db\n",
    "```"
   ]
  },
  {
   "cell_type": "markdown",
   "metadata": {},
   "source": [
    "# python中的注意事项\n",
    "\n",
    "避免使用(5,)这种形式，明确的通过reshape给定各个变量的维度。同时勤使用`assert(a.shape==(5,1))`这样的断言语句来保证维度的正确性。"
   ]
  },
  {
   "cell_type": "markdown",
   "metadata": {},
   "source": [
    "# 逻辑回归中代价函数的解释:\n",
    "![cost_function](./Image/cost_function.png)"
   ]
  },
  {
   "cell_type": "code",
   "execution_count": null,
   "metadata": {},
   "outputs": [],
   "source": []
  }
 ],
 "metadata": {
  "kernelspec": {
   "display_name": "Python 3",
   "language": "python",
   "name": "python3"
  },
  "language_info": {
   "codemirror_mode": {
    "name": "ipython",
    "version": 3
   },
   "file_extension": ".py",
   "mimetype": "text/x-python",
   "name": "python",
   "nbconvert_exporter": "python",
   "pygments_lexer": "ipython3",
   "version": "3.6.5"
  },
  "toc": {
   "base_numbering": 1,
   "nav_menu": {},
   "number_sections": true,
   "sideBar": true,
   "skip_h1_title": false,
   "title_cell": "Table of Contents",
   "title_sidebar": "Contents",
   "toc_cell": false,
   "toc_position": {},
   "toc_section_display": true,
   "toc_window_display": false
  }
 },
 "nbformat": 4,
 "nbformat_minor": 2
}
