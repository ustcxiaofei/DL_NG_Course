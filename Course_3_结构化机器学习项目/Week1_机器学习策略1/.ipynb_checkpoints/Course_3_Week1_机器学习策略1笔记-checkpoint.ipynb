{
 "cells": [
  {
   "cell_type": "markdown",
   "metadata": {},
   "source": [
    "**主要内容**\n",
    "\n",
    "- 正交化\n",
    "\n",
    "- 单一数字评估指标\n",
    "\n",
    "- 满足指标与优化指标\n",
    "\n",
    "- 训练、开发、测试集\n",
    "\n",
    "- 与人类表现比较\n",
    "\n",
    "- 改善模型表现"
   ]
  },
  {
   "cell_type": "markdown",
   "metadata": {},
   "source": [
    "# 正交化\n",
    "一种系统设计属性，确保修改算法的某一部分，不会对其他部分造成副作用，通过相互**独立**的验证，使得整个算法变得简单\n",
    "\n",
    "对于监督学习来说，一下4个假设需要真实且相互正交的：\n",
    "\n",
    "- 系统在训练集上表现好\n",
    "   - 否则，使用**更大的网络、更好的优化算法**\n",
    "- 系统在开发集上表现的好\n",
    "   - 否则，使用**正则化、更大的训练集**\n",
    "- 系统在测试集上表现的好\n",
    "   - 否则，使用**更大的开发集**\n",
    "- 系统在真实系统环境中表现的好\n",
    "   - 否则，修改**开发测试集、修改代价函数**"
   ]
  },
  {
   "cell_type": "markdown",
   "metadata": {},
   "source": [
    "# 评估指标\n",
    "## 单一数字评估指标\n",
    "为问题设置一个的单一的数字评估指标，可以更好更快的评估模型\n",
    "\n",
    "$$F1_{Socre} = \\dfrac {2} {\\dfrac{1}{p}+\\dfrac{1}{r}}$$\n",
    "\n",
    "## 满足和优化指标\n",
    "一般的，如果要考虑N个指标，则选择一个指标为优化指标，其他N-1个指标都是满足指标：\n",
    "$$ N_{metric}:\\left\\{ \\begin{array}{l}\n",
    "1\\qquad \\qquad \\qquad Optimizing\\ metric\\\\\n",
    "N_{metric}-1\\qquad Satisificing\\ metric\n",
    "\\end{array} \\right.$$"
   ]
  },
  {
   "cell_type": "markdown",
   "metadata": {},
   "source": [
    "# 训练、开发、测试集\n",
    "训练、开发、测试集选择设置的一些规则和意见：\n",
    "\n",
    "- 训练、开发、测试集的设置会对产品带来非常大的影响；\n",
    "- 在选择开发集和测试集时要使二者来自同一分布，且从所有数据中随机选取；\n",
    "- 所选择的开发集和测试集中的数据，要与未来想要或者能够得到的数据类似，即模型数据和未来数据要具有相似性；\n",
    "- 设置的测试集只要足够大，使其能够在过拟合的系统中给出高方差的结果就可以，也许10000左右的数目足够；\n",
    "- 设置开发集只要足够使其能够检测不同算法、不同模型之间的优劣差异就可以，百万大数据中1%的大小就足够；\n",
    "\n",
    "## 改变训练、开发、测试集及评估指标\n",
    "\n",
    "如果在训练开发测试的过程中得到的模型效果比较好，但是在实际应用中自己所真正关心的问题效果却不好的时候，就需要改变开发、测试集或者评估指标。\n",
    "\n",
    "**指导**\n",
    "- 定义正确的评估指标来进行分类器排序\n",
    "- 优化评估指标"
   ]
  },
  {
   "cell_type": "markdown",
   "metadata": {},
   "source": [
    "# 与人类表现进行比较\n",
    "通过与人类表现进行比较，分析bias vs variance，从而明确模型的优化方向"
   ]
  },
  {
   "cell_type": "markdown",
   "metadata": {},
   "source": [
    "# 改善模型的表现\n",
    "\n",
    "- 基本假设：\n",
    "\n",
    "   -模型在训练集上有很好的表现；\n",
    "   - 模型推广到开发和测试集啥会给你也有很好的表现。\n",
    "- 减少可避免偏差\n",
    "\n",
    "   - 训练更大的模型\n",
    "   - 训练更长时间、训练更好的优化算法（Momentum、RMSprop、Adam）\n",
    "   - 寻找更好的网络架构（RNN、CNN）、寻找更好的超参数\n",
    "- 减少方差\n",
    "\n",
    "   - 收集更多的数据\n",
    "   - 正则化（L2、dropout、数据增强）\n",
    "   - 寻找更好的网络架构（RNN、CNN）、寻找更好的超参数\n",
    "   \n",
    "   \n",
    "![improve](./Image/improve.png)"
   ]
  },
  {
   "cell_type": "code",
   "execution_count": null,
   "metadata": {},
   "outputs": [],
   "source": []
  }
 ],
 "metadata": {
  "kernelspec": {
   "display_name": "Python 3",
   "language": "python",
   "name": "python3"
  },
  "language_info": {
   "codemirror_mode": {
    "name": "ipython",
    "version": 3
   },
   "file_extension": ".py",
   "mimetype": "text/x-python",
   "name": "python",
   "nbconvert_exporter": "python",
   "pygments_lexer": "ipython3",
   "version": "3.6.5"
  },
  "toc": {
   "base_numbering": 1,
   "nav_menu": {},
   "number_sections": true,
   "sideBar": true,
   "skip_h1_title": false,
   "title_cell": "Table of Contents",
   "title_sidebar": "Contents",
   "toc_cell": false,
   "toc_position": {},
   "toc_section_display": true,
   "toc_window_display": false
  }
 },
 "nbformat": 4,
 "nbformat_minor": 2
}
